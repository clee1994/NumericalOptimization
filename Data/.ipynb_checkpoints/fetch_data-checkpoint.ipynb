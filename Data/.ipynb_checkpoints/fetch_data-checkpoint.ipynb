{
 "cells": [
  {
   "cell_type": "code",
   "execution_count": 2,
   "metadata": {
    "collapsed": false
   },
   "outputs": [],
   "source": [
    "%matplotlib inline\n",
    "\n",
    "import numpy as np\n",
    "import pandas as pd\n",
    "import pandas.io.data as ddp \n",
    "import datetime\n",
    "from scipy import stats\n",
    "import matplotlib.pyplot as plt\n",
    "from plotly import tools\n",
    "\n",
    "import plotly.plotly as py\n",
    "import plotly.graph_objs as go"
   ]
  },
  {
   "cell_type": "code",
   "execution_count": null,
   "metadata": {
    "collapsed": true
   },
   "outputs": [],
   "source": []
  },
  {
   "cell_type": "code",
   "execution_count": 3,
   "metadata": {
    "collapsed": false
   },
   "outputs": [],
   "source": [
    "start_ts = datetime.datetime(2000, 1, 1)\n",
    "end_ts = datetime.datetime(2017, 4, 19)\n",
    "\n",
    "#comp_name = ['AAPL', 'DIS', 'JNJ', 'HD', 'AXP', 'CSCO', 'KO', 'MRK', 'TRV', 'V', 'PFE', 'IBM', 'UTX', 'CAT', 'MMM', 'WMT', 'PG', 'VZ', 'MCD', 'UNH', 'MSFT', 'BA', 'GE', 'CVX', 'NKE', 'GS', 'INTC', 'DD', 'JPM', 'XOM']\n",
    "#comp_name = ['DB1.DE', 'PSM.DE', 'SIE.DE', 'VNA.DE', 'ALV.DE', 'FME.DE', 'CON.DE', 'SAP.DE', 'DBK.DE', 'ADS.DE', 'FRE.DE', 'BEI.DE', 'DAI.DE', 'MRK.DE', 'BAS.DE', 'BAYN.DE', 'DTE.DE', 'CBK.DE', 'HEN3.DE', 'EOAN.DE', 'HEI.DE', 'DPW.DE', 'LIN.DE', 'VOW3.DE', 'BMW.DE', 'MUV2.DE', 'LHA.DE', 'RWE.DE', 'IFX.DE', 'TKA.DE']\n",
    "#comp_name = ['PHIA.AS', 'SU.PA', 'ALV.DE', 'IBE.MC', 'AIR.PA', 'AI.PA', 'DPW.DE', 'FRE.DE', 'ITX.MC', 'ABI.BR', 'BMW.DE', 'SAF.PA', 'SAN.PA', 'DTE.DE', 'ORA.PA', 'BN.PA', 'MC.PA', 'ENI.MI', 'ENEL.MI', 'OR.PA', 'BNP.PA', 'EI.PA', 'ASML.AS', 'G.MI', 'ENGI.PA', 'CA.PA', 'INGA.AS', 'BAYN.DE', 'DBK.DE', 'BBVA.MC']\n",
    "#comp_name = ['ELPE.AT', 'ELLAKTOR.AT', 'HTO.AT', 'GRIV.AT', 'PPA.AT', 'TENERGY.AT', 'EEE.AT', 'GEKTERNA.AT', 'METKK.AT', 'MOH.AT', 'MYTIL.AT', 'BELA.AT', 'AEGN.AT', 'EUROB.AT', 'OPAP.AT', 'PPC.AT', 'EXAE.AT', 'VIO.AT', 'ALPHA.AT', 'SAR.AT', 'FFGRP.AT', 'LAMDA.AT', 'TITK.AT', 'TPEIR.AT', 'ETE.AT']\n",
    "#comp_name = ['LTEA', 'FARM', 'KLXI', 'SLAB', 'FARO', 'POPE', 'AGLE', 'FNLC', 'FEYE', 'AKTX', 'EXAC', 'FRTA', 'IBKC', 'ISLE', 'NVCR', 'JIVE', 'CVCO', 'TSLA', 'OPTT', 'NRCIB', 'EXAS', 'FNJN', 'NRCIA', 'NVCN', 'SPHS', 'CMRX', 'WLB', 'ATEC', 'SCON', 'FRSH']\n",
    "comp_name = ['MMM', 'ABT', 'ABBV', 'ACN', 'ATVI', 'AYI', 'ADBE', 'AMD', 'AAP', 'AES', 'AET', 'AMG', 'AFL', 'A', 'APD', 'AKAM', 'ALK', 'ALB', 'ARE', 'AGN', 'LNT', 'ALXN', 'ALLE', 'ADS', 'ALL', 'GOOGL', 'GOOG', 'MO', 'AMZN', 'AEE', 'AAL', 'AEP', 'AXP', 'AIG', 'AMT', 'AWK', 'AMP', 'ABC', 'AME', 'AMGN', 'APH', 'APC', 'ADI', 'ANTM', 'AON', 'APA', 'AIV', 'AAPL', 'AMAT', 'ADM', 'ARNC', 'AJG', 'AIZ', 'T', 'ADSK', 'ADP', 'AN', 'AZO', 'AVB', 'AVY', 'BHI', 'BLL', 'BAC', 'BK', 'BCR', 'BAX', 'BBT', 'BDX', 'BBBY', 'BRK-B', 'BBY', 'BIIB', 'BLK', 'HRB', 'BA', 'BWA', 'BXP', 'BSX', 'BMY', 'AVGO', 'BF-B', 'CHRW', 'CA', 'COG', 'CPB', 'COF', 'CAH', 'CBOE', 'KMX', 'CCL', 'CAT', 'CBG', 'CBS', 'CELG', 'CNC', 'CNP', 'CTL', 'CERN', 'CF', 'SCHW', 'CHTR', 'CHK', 'CVX', 'CMG', 'CB', 'CHD', 'CI', 'XEC', 'CINF', 'CTAS', 'CSCO', 'C', 'CFG', 'CTXS', 'CLX', 'CME', 'CMS', 'COH', 'KO', 'CTSH', 'CL', 'CMCSA', 'CMA', 'CAG', 'CXO', 'COP', 'ED', 'STZ', 'GLW', 'COST', 'COTY', 'CCI', 'CSRA', 'CSX', 'CMI', 'CVS', 'DHI', 'DHR', 'DRI', 'DVA', 'DE', 'DLPH', 'DAL', 'XRAY', 'DVN', 'DLR', 'DFS', 'DISCA', 'DISCK', 'DISH', 'DG', 'DLTR', 'D', 'DOV', 'DOW', 'DPS', 'DTE', 'DD', 'DUK', 'DNB', 'DXC', 'ETFC', 'EMN', 'ETN', 'EBAY', 'ECL', 'EIX', 'EW', 'EA', 'EMR', 'ETR', 'EVHC', 'EOG', 'EQT', 'EFX', 'EQIX', 'EQR', 'ESS', 'EL', 'ES', 'EXC', 'EXPE', 'EXPD', 'ESRX', 'EXR', 'XOM', 'FFIV', 'FB', 'FAST', 'FRT', 'FDX', 'FIS', 'FITB', 'FE', 'FISV', 'FLIR', 'FLS', 'FLR', 'FMC', 'FTI', 'FL', 'F', 'FTV', 'FBHS', 'BEN', 'FCX', 'GPS', 'GRMN', 'GD', 'GE', 'GGP', 'GIS', 'GM', 'GPC', 'GILD', 'GPN', 'GS', 'GT', 'GWW', 'HAL', 'HBI', 'HOG', 'HRS', 'HIG', 'HAS', 'HCA', 'HCP', 'HP', 'HSIC', 'HES', 'HPE', 'HOLX', 'HD', 'HON', 'HRL', 'HST', 'HPQ', 'HUM', 'HBAN', 'IDXX', 'ITW', 'ILMN', 'IR', 'INTC', 'ICE', 'IBM', 'INCY', 'IP', 'IPG', 'IFF', 'INTU', 'ISRG', 'IVZ', 'IRM', 'JEC', 'JBHT', 'SJM', 'JNJ', 'JCI', 'JPM', 'JNPR', 'KSU', 'K', 'KEY', 'KMB', 'KIM', 'KMI', 'KLAC', 'KSS', 'KHC', 'KR', 'LB', 'LLL', 'LH', 'LRCX', 'LEG', 'LEN', 'LVLT', 'LUK', 'LLY', 'LNC', 'LKQ', 'LMT', 'L', 'LOW', 'LYB', 'MTB', 'MAC', 'M', 'MNK', 'MRO', 'MPC', 'MAR', 'MMC', 'MLM', 'MAS', 'MA', 'MAT', 'MKC', 'MCD', 'MCK', 'MJN', 'MDT', 'MRK', 'MET', 'MTD', 'KORS', 'MCHP', 'MU', 'MSFT', 'MAA', 'MHK', 'TAP', 'MDLZ', 'MON', 'MNST', 'MCO', 'MS', 'MOS', 'MSI', 'MUR', 'MYL', 'NDAQ', 'NOV', 'NAVI', 'NTAP', 'NFLX', 'NWL', 'NFX', 'NEM', 'NWSA', 'NWS', 'NEE', 'NLSN', 'NKE', 'NI', 'NBL', 'JWN', 'NSC', 'NTRS', 'NOC', 'NRG', 'NUE', 'NVDA', 'ORLY', 'OXY', 'OMC', 'OKE', 'ORCL', 'PCAR', 'PH', 'PDCO', 'PAYX', 'PYPL', 'PNR', 'PBCT', 'PEP', 'PKI', 'PRGO', 'PFE', 'PCG', 'PM', 'PSX', 'PNW', 'PXD', 'PNC', 'RL', 'PPG', 'PPL', 'PX', 'PCLN', 'PFG', 'PG', 'PGR', 'PLD', 'PRU', 'PEG', 'PSA', 'PHM', 'PVH', 'QRVO', 'PWR', 'QCOM', 'DGX', 'RRC', 'RJF', 'RTN', 'O', 'RHT', 'REG', 'REGN', 'RF', 'RSG', 'RAI', 'RHI', 'ROK', 'COL', 'ROP', 'ROST', 'RCL', 'R', 'CRM', 'SCG', 'SLB', 'SNI', 'STX', 'SEE', 'SRE', 'SHW', 'SIG', 'SPG', 'SWKS', 'SLG', 'SNA', 'SO', 'LUV', 'SPGI', 'SWK', 'SPLS', 'SBUX', 'STT', 'SRCL', 'SYK', 'STI', 'SYMC', 'SYF', 'SNPS', 'SYY', 'TROW', 'TGT', 'TEL', 'TGNA', 'TDC', 'TSO', 'TXN', 'TXT', 'COO', 'HSY', 'TRV', 'TMO', 'TIF', 'TWX', 'TJX', 'TMK', 'TSS', 'TSCO', 'TDG', 'RIG', 'TRIP', 'FOXA', 'FOX', 'TSN', 'UDR', 'ULTA', 'USB', 'UA', 'UAA', 'UNP', 'UAL', 'UNH', 'UPS', 'URI', 'UTX', 'UHS', 'UNM', 'VFC', 'VLO', 'VAR', 'VTR', 'VRSN', 'VRSK', 'VZ', 'VRTX', 'VIAB', 'V', 'VNO', 'VMC', 'WMT', 'WBA', 'DIS', 'WM', 'WAT', 'WEC', 'WFC', 'HCN', 'WDC', 'WU', 'WRK', 'WY', 'WHR', 'WFM', 'WMB', 'WLTW', 'WYN', 'WYNN', 'XEL', 'XRX', 'XLNX', 'XL', 'XYL', 'YHOO', 'YUM', 'ZBH', 'ZION', 'ZTS']\n",
    "#comp_name = ['FNTN.DE', 'O2D.DE', 'WAF.DE', 'PFV.DE', 'SBS.DE', 'JEN.DE', 'NDX1.DE', 'BC8.DE', 'AM3D.DE', 'GFT.DE', 'DRW3.DE', 'COK.DE', 'WDI.DE', 'MOR.DE', 'SRT3.DE', 'QIA.DE', 'SOW.DE', 'S92.DE', 'UTDI.DE', 'RIB.DE', 'AIXA.DE', 'SMHN.DE', 'ADV.DE', 'DRI.DE', 'NEM.DE', 'DLG.DE', 'O1BC.DE', 'EVT.DE', 'COP.DE', 'AFX.DE']\n",
    "comp_name = ['^GDAXI']"
   ]
  },
  {
   "cell_type": "code",
   "execution_count": 4,
   "metadata": {
    "collapsed": false
   },
   "outputs": [],
   "source": [
    "dataAdjClose = pd.DataFrame() \n",
    "for cur_comp in comp_name:\n",
    "    temp_data = ddp.DataReader(cur_comp, 'yahoo', start_ts, end_ts)\n",
    "        \n",
    "    #weekly data\n",
    "    #dates = temp_data.index.values\n",
    "    #EoW_dates = find_last_trading_day_per_week(dates)\n",
    "    #selector = np.array([i in EoW_dates for i in dates.astype('datetime64[D]')])\n",
    "    #temp_data_weekly = temp_data[selector]\n",
    "        \n",
    "    dataAdjClose[cur_comp] = temp_data['Adj Close']"
   ]
  },
  {
   "cell_type": "code",
   "execution_count": null,
   "metadata": {
    "collapsed": false
   },
   "outputs": [],
   "source": []
  },
  {
   "cell_type": "code",
   "execution_count": 15,
   "metadata": {
    "collapsed": true
   },
   "outputs": [],
   "source": [
    "import csv"
   ]
  },
  {
   "cell_type": "code",
   "execution_count": 5,
   "metadata": {
    "collapsed": false
   },
   "outputs": [],
   "source": [
    "dataAdjClose.to_csv('/Users/clemens/Desktop/DAX_pure.csv',na_rep='NaN')"
   ]
  },
  {
   "cell_type": "code",
   "execution_count": null,
   "metadata": {
    "collapsed": true
   },
   "outputs": [],
   "source": []
  }
 ],
 "metadata": {
  "anaconda-cloud": {},
  "kernelspec": {
   "display_name": "Python [default]",
   "language": "python",
   "name": "python3"
  },
  "language_info": {
   "codemirror_mode": {
    "name": "ipython",
    "version": 3
   },
   "file_extension": ".py",
   "mimetype": "text/x-python",
   "name": "python",
   "nbconvert_exporter": "python",
   "pygments_lexer": "ipython3",
   "version": "3.5.2"
  }
 },
 "nbformat": 4,
 "nbformat_minor": 1
}
